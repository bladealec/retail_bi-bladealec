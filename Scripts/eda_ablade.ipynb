{
 "cells": [
  {
   "cell_type": "code",
   "execution_count": null,
   "id": "f22776a6",
   "metadata": {},
   "outputs": [],
   "source": [
    "import pandas as pd"
   ]
  },
  {
   "cell_type": "code",
   "execution_count": null,
   "id": "c62fbadd",
   "metadata": {},
   "outputs": [],
   "source": [
    "jan_df = pd.read_csv('data/Jan Sold With.csv')\n",
    "nov_df = pd.read_csv('data/Nov Sold With.csv')\n",
    "dec_df = pd.read_csv('data/Dec Sold With.csv')\n",
    "stores_df = pd.read_csv('data/stores.csv')\n",
    "store_sales_df = pd.read_csv('data/Store Sales.csv')\n",
    "products_df = pd.read_csv('data/products.csv')"
   ]
  },
  {
   "cell_type": "code",
   "execution_count": null,
   "id": "c8b82e09",
   "metadata": {},
   "outputs": [],
   "source": [
    "print(jan_df.shape)\n",
    "jan_df.head()"
   ]
  },
  {
   "cell_type": "code",
   "execution_count": null,
   "id": "8ee2ce8b",
   "metadata": {},
   "outputs": [],
   "source": [
    "print(nov_df.shape)\n",
    "nov_df.head()"
   ]
  },
  {
   "cell_type": "code",
   "execution_count": null,
   "id": "955993c8",
   "metadata": {},
   "outputs": [],
   "source": [
    "print(dec_df.info())\n",
    "print(dec_df.shape)\n",
    "dec_df.head()"
   ]
  },
  {
   "cell_type": "code",
   "execution_count": null,
   "id": "9d9f3eb4",
   "metadata": {},
   "outputs": [],
   "source": [
    "dec_df.TRANSACTION_DATE.value_counts()"
   ]
  },
  {
   "cell_type": "code",
   "execution_count": null,
   "id": "31631885",
   "metadata": {},
   "outputs": [],
   "source": [
    "print(stores_df.shape)\n",
    "stores_df.head()"
   ]
  },
  {
   "cell_type": "code",
   "execution_count": null,
   "id": "a2efc517",
   "metadata": {},
   "outputs": [],
   "source": [
    "stores_df.STORE_NAME.unique()"
   ]
  },
  {
   "cell_type": "code",
   "execution_count": null,
   "id": "bafae741",
   "metadata": {},
   "outputs": [],
   "source": [
    "print(store_sales_df.shape)\n",
    "store_sales_df[store_sales_df['STORE'] == 1500]"
   ]
  },
  {
   "cell_type": "code",
   "execution_count": null,
   "id": "cf2df3b9",
   "metadata": {},
   "outputs": [],
   "source": [
    "products_df.head()"
   ]
  },
  {
   "cell_type": "code",
   "execution_count": null,
   "id": "deb8695d",
   "metadata": {},
   "outputs": [],
   "source": [
    "products_df.shape"
   ]
  },
  {
   "cell_type": "code",
   "execution_count": null,
   "id": "219be163",
   "metadata": {},
   "outputs": [],
   "source": [
    "products_df.DEPARTMENT_NAME.unique()"
   ]
  },
  {
   "cell_type": "code",
   "execution_count": null,
   "id": "56bd9209",
   "metadata": {},
   "outputs": [],
   "source": [
    "products_df.MAJOR_NAME.unique()"
   ]
  },
  {
   "cell_type": "code",
   "execution_count": null,
   "id": "4a016080",
   "metadata": {},
   "outputs": [],
   "source": [
    "products_df.STYLE_DESCR.value_counts()"
   ]
  },
  {
   "cell_type": "code",
   "execution_count": null,
   "id": "10e613dc",
   "metadata": {},
   "outputs": [],
   "source": [
    "products_df[products_df['DEPARTMENT'] == 1]"
   ]
  },
  {
   "cell_type": "markdown",
   "id": "fddf3333",
   "metadata": {},
   "source": [
    "# Analysis"
   ]
  },
  {
   "cell_type": "code",
   "execution_count": null,
   "id": "1dd60715",
   "metadata": {},
   "outputs": [],
   "source": [
    "jan_df[['PRIMARY_STOCKNO','SECONDARY_STOCKNO']].value_counts()"
   ]
  },
  {
   "cell_type": "code",
   "execution_count": null,
   "id": "d4688678",
   "metadata": {},
   "outputs": [],
   "source": [
    "products_df[(products_df['STOCKNO'] == 398913) | (products_df['STOCKNO'] == 1639)]"
   ]
  },
  {
   "cell_type": "markdown",
   "id": "a87d7b98",
   "metadata": {},
   "source": [
    "I am trying to create a function that when given a stock number it will return the top 3 shoes and top 3 accessories sold with that stock number. Once I have this I can run this on the products table to create 6 new columns. 3 for the 1st, 2nd, and 3rd shoe recomendation and 3 for the 1st, 2nd, and 3rd acessory recomendation.\n",
    "<br><br>\n",
    "I could add to more inputs such as age(adult/kid) and sex(male/female) which would act as filters."
   ]
  },
  {
   "cell_type": "markdown",
   "id": "ba6eab61",
   "metadata": {},
   "source": [
    "#### Doing some test to see how I can write the function"
   ]
  },
  {
   "cell_type": "code",
   "execution_count": null,
   "id": "ccd52fc2",
   "metadata": {},
   "outputs": [],
   "source": [
    "jan_df[(jan_df == 398913).any(axis=1)]"
   ]
  },
  {
   "cell_type": "markdown",
   "id": "be822a93",
   "metadata": {},
   "source": [
    "Given a stock number, return a dataframe with all combinations of that stock number and how many times those combinations were sold"
   ]
  },
  {
   "cell_type": "code",
   "execution_count": null,
   "id": "aead9254",
   "metadata": {},
   "outputs": [],
   "source": [
    "recomendation_df = pd.DataFrame(jan_df[(jan_df['PRIMARY_STOCKNO'] == 398913)][['PRIMARY_STOCKNO','SECONDARY_STOCKNO']]).value_counts().reset_index()\n",
    "recomendation_df"
   ]
  },
  {
   "cell_type": "code",
   "execution_count": null,
   "id": "74ee86da",
   "metadata": {},
   "outputs": [],
   "source": [
    "recomendation_df.columns = ['PRIMARY_STOCKNO', 'SECONDARY_STOCKNO', 'COUNT']"
   ]
  },
  {
   "cell_type": "code",
   "execution_count": null,
   "id": "c71697f4",
   "metadata": {},
   "outputs": [],
   "source": [
    "recomendation_df"
   ]
  },
  {
   "cell_type": "markdown",
   "id": "b96e8f1f",
   "metadata": {},
   "source": [
    "Return the top 3 items that are most commonly bought with that stock number"
   ]
  },
  {
   "cell_type": "code",
   "execution_count": null,
   "id": "fef77d05",
   "metadata": {},
   "outputs": [],
   "source": [
    "STOCK = 398913\n",
    "\n",
    "for index, row in recomendation_df.head(10).iterrows():\n",
    "    if row.SECONDARY_STOCKNO == STOCK:\n",
    "        print(row.PRIMARY_STOCKNO)\n",
    "    else:\n",
    "        print(row.SECONDARY_STOCKNO)\n",
    "        \n"
   ]
  },
  {
   "cell_type": "code",
   "execution_count": null,
   "id": "88d328d0",
   "metadata": {},
   "outputs": [],
   "source": [
    "#looking into the returned stock numbers\n",
    "products_df[(products_df['STOCKNO'] == 1639) | (products_df['STOCKNO'] == 398564) | (products_df['STOCKNO'] == 401)]"
   ]
  },
  {
   "cell_type": "markdown",
   "id": "e064bfc9",
   "metadata": {},
   "source": [
    "I am now joining the DEPARTMENT from the products table to the January sales table so I can filter on accessory or shoe. I will be joining on STOCKNO and PRIMARY_STOCKNO."
   ]
  },
  {
   "cell_type": "code",
   "execution_count": null,
   "id": "e35f91fd",
   "metadata": {},
   "outputs": [],
   "source": [
    "jan_sales_department = pd.merge(jan_df, products_df[['STOCKNO','DEPARTMENT']], \n",
    "                               left_on = 'PRIMARY_STOCKNO', right_on = 'STOCKNO', \n",
    "                               how = 'left')\n",
    "jan_sales_department.head(3)"
   ]
  },
  {
   "cell_type": "code",
   "execution_count": null,
   "id": "ef9ed52e",
   "metadata": {
    "scrolled": true
   },
   "outputs": [],
   "source": [
    "jan_sales_department = jan_sales_department.rename(columns={\"DEPARTMENT\": \"PRIMARY_DEPT\"})"
   ]
  },
  {
   "cell_type": "code",
   "execution_count": null,
   "id": "5d152467",
   "metadata": {},
   "outputs": [],
   "source": [
    "jan_sales_department.head(3)"
   ]
  },
  {
   "cell_type": "markdown",
   "id": "a491a83a",
   "metadata": {},
   "source": [
    "Doing the same thing but for SECONDARY_STOCKNO"
   ]
  },
  {
   "cell_type": "code",
   "execution_count": null,
   "id": "2644c47f",
   "metadata": {},
   "outputs": [],
   "source": [
    "jan_sales_departments = pd.merge(jan_sales_department, products_df[['STOCKNO','DEPARTMENT']], \n",
    "                               left_on = 'SECONDARY_STOCKNO', right_on = 'STOCKNO', \n",
    "                               how = 'left')\n",
    "jan_sales_departments.head(3)"
   ]
  },
  {
   "cell_type": "markdown",
   "id": "9db885ae",
   "metadata": {},
   "source": [
    "Dropping some columns"
   ]
  },
  {
   "cell_type": "code",
   "execution_count": null,
   "id": "c0109808",
   "metadata": {},
   "outputs": [],
   "source": [
    "jan_sales_departments = jan_sales_departments.drop(columns = ['TRANSACTION_DATE', 'PRIMARY_EMP_IND',\n",
    "                                                              'SECONDARY_EMP_IND', 'PRIMARY_SOS_IND',\n",
    "                                                              'SECONDARY_SOS_IND', 'PRIMARY_LINENO',\n",
    "                                                              'SECONDARY_LINENO', 'STOCKNO_x',\n",
    "                                                              'STOCKNO_y' ])"
   ]
  },
  {
   "cell_type": "code",
   "execution_count": null,
   "id": "b80f4821",
   "metadata": {},
   "outputs": [],
   "source": [
    "jan_sales_departments = jan_sales_departments.rename(columns={\"DEPARTMENT\": \"SECONDARY_DEPT\"})"
   ]
  },
  {
   "cell_type": "code",
   "execution_count": null,
   "id": "ec220f2b",
   "metadata": {},
   "outputs": [],
   "source": [
    "jan_sales_departments.head(5)"
   ]
  },
  {
   "cell_type": "markdown",
   "id": "1b0dd36e",
   "metadata": {},
   "source": [
    "Creating a new column PRIMARY_SHOE (True or False)"
   ]
  },
  {
   "cell_type": "code",
   "execution_count": null,
   "id": "b3b9e2ed",
   "metadata": {},
   "outputs": [],
   "source": [
    "\n",
    "for index, row in jan_sales_departments.iterrows():\n",
    "    if row.PRIMARY_DEPT in [1, 2, 3, 4, 7]:\n",
    "        jan_sales_departments.loc[index, 'PRIMARY_SHOE'] = 'True'\n",
    "    elif row.PRIMARY_DEPT in [5, 6, 8, 9, 10, 15]:\n",
    "        jan_sales_departments.loc[index, 'PRIMARY_SHOE'] = 'False'\n",
    "    else:\n",
    "        jan_sales_departments.loc[index, 'PRIMARY_SHOE'] = 'error'"
   ]
  },
  {
   "cell_type": "code",
   "execution_count": null,
   "id": "c708f9b4",
   "metadata": {
    "scrolled": true
   },
   "outputs": [],
   "source": [
    "jan_sales_departments.head(3)"
   ]
  },
  {
   "cell_type": "markdown",
   "id": "1bdc266d",
   "metadata": {},
   "source": [
    "Creating a new column SECONDARY_SHOE (True or False)"
   ]
  },
  {
   "cell_type": "code",
   "execution_count": null,
   "id": "3b111a4f",
   "metadata": {},
   "outputs": [],
   "source": [
    "for index, row in jan_sales_departments.iterrows():\n",
    "    if row.SECONDARY_DEPT in [1, 2, 3, 4, 7]:\n",
    "        jan_sales_departments.loc[index, 'SECONDARY_SHOE'] = 'True'\n",
    "    elif row.SECONDARY_DEPT in [5, 6, 8, 9, 10, 15]:\n",
    "        jan_sales_departments.loc[index, 'SECONDARY_SHOE'] = 'False'\n",
    "    else:\n",
    "        jan_sales_departments.loc[index, 'SECONDARY_SHOE'] = 'error'"
   ]
  },
  {
   "cell_type": "code",
   "execution_count": null,
   "id": "69d55aca",
   "metadata": {},
   "outputs": [],
   "source": [
    "jan_sales_departments.head(3)"
   ]
  },
  {
   "cell_type": "markdown",
   "id": "6dbfa586",
   "metadata": {},
   "source": [
    "Creating a table for shoes sold with shoes (jan_shoe_shoe), and shoes sold with accessories (jan_shoe_acces)"
   ]
  },
  {
   "cell_type": "code",
   "execution_count": null,
   "id": "2f874104",
   "metadata": {},
   "outputs": [],
   "source": [
    "jan_shoe_shoe = jan_sales_departments[(jan_sales_departments['SECONDARY_SHOE'] == 'True') \n",
    "                                      & (jan_sales_departments['PRIMARY_SHOE'] == 'True')]\n",
    "\n",
    "jan_shoe_acces = jan_sales_departments[(jan_sales_departments['SECONDARY_SHOE'] == 'False')\n",
    "                                      & (jan_sales_departments['PRIMARY_SHOE'] == 'True')]"
   ]
  },
  {
   "cell_type": "markdown",
   "id": "2393be43",
   "metadata": {},
   "source": [
    "### The following functions are used to find the top 3 shoe or accessory recomendations given a shoe's stock number. The first list contains the recomendations. The second list returns the amount of times this combonation has been purchased."
   ]
  },
  {
   "cell_type": "code",
   "execution_count": null,
   "id": "74eda56d",
   "metadata": {},
   "outputs": [],
   "source": [
    "def shoe_recomendations(stock_num):\n",
    "    \n",
    "    recomendation_df = pd.DataFrame(jan_shoe_shoe[(jan_shoe_shoe['PRIMARY_STOCKNO'] == stock_num)]\n",
    "                                    [['PRIMARY_STOCKNO','SECONDARY_STOCKNO']]).value_counts().reset_index()\n",
    "    \n",
    "    recomendation_df.columns = ['PRIMARY_STOCKNO', 'SECONDARY_STOCKNO', 'COUNT']\n",
    "    \n",
    "    recomendations = []\n",
    "    combo_purchase_count = []\n",
    "    \n",
    "    for index, row in recomendation_df.head(3).iterrows():\n",
    "        if row.SECONDARY_STOCKNO == stock_num:\n",
    "            recomendations.append(row.PRIMARY_STOCKNO)\n",
    "            combo_purchase_count.append(row.COUNT)\n",
    "        else:\n",
    "            recomendations.append(row.SECONDARY_STOCKNO)\n",
    "            combo_purchase_count.append(row.COUNT)\n",
    "    \n",
    "    return recomendations, combo_purchase_count"
   ]
  },
  {
   "cell_type": "code",
   "execution_count": null,
   "id": "b660d86a",
   "metadata": {},
   "outputs": [],
   "source": [
    "shoe_recomendations(398913)"
   ]
  },
  {
   "cell_type": "code",
   "execution_count": null,
   "id": "b431b592",
   "metadata": {},
   "outputs": [],
   "source": [
    "def acces_recomendation(stock_num):\n",
    "    \n",
    "    recomendation_df = pd.DataFrame(jan_shoe_acces[(jan_shoe_acces['PRIMARY_STOCKNO'] == stock_num)]\n",
    "                                    [['PRIMARY_STOCKNO','SECONDARY_STOCKNO']]).value_counts().reset_index()\n",
    "    \n",
    "    recomendation_df.columns = ['PRIMARY_STOCKNO', 'SECONDARY_STOCKNO', 'COUNT']\n",
    "    \n",
    "    recomendations = []\n",
    "    combo_purchase_count = []\n",
    "    \n",
    "    for index, row in recomendation_df.head(3).iterrows():\n",
    "        if row.SECONDARY_STOCKNO == stock_num:\n",
    "            recomendations.append(row.PRIMARY_STOCKNO)\n",
    "            combo_purchase_count.append(row.COUNT)\n",
    "        else:\n",
    "            recomendations.append(row.SECONDARY_STOCKNO)\n",
    "            combo_purchase_count.append(row.COUNT)\n",
    "    \n",
    "    return recomendations, combo_purchase_count"
   ]
  },
  {
   "cell_type": "code",
   "execution_count": null,
   "id": "cb447bd4",
   "metadata": {},
   "outputs": [],
   "source": [
    "acces_recomendation(398913)"
   ]
  },
  {
   "cell_type": "markdown",
   "id": "fab9ca1d",
   "metadata": {},
   "source": [
    "### I want to be able to filter on location hierarchy so I am joining the stores table to the sales table using 'store'. I am also merging all the sales tables (nov. ,dec., and jan.) into one df called sales_df."
   ]
  },
  {
   "cell_type": "code",
   "execution_count": null,
   "id": "9ed961cb",
   "metadata": {},
   "outputs": [],
   "source": [
    "sales_df = pd.concat([nov_df, dec_df, jan_df])\n",
    "sales_df.head(3)"
   ]
  },
  {
   "cell_type": "code",
   "execution_count": null,
   "id": "56fc6787",
   "metadata": {},
   "outputs": [],
   "source": []
  }
 ],
 "metadata": {
  "kernelspec": {
   "display_name": "Python 3 (ipykernel)",
   "language": "python",
   "name": "python3"
  },
  "language_info": {
   "codemirror_mode": {
    "name": "ipython",
    "version": 3
   },
   "file_extension": ".py",
   "mimetype": "text/x-python",
   "name": "python",
   "nbconvert_exporter": "python",
   "pygments_lexer": "ipython3",
   "version": "3.9.13"
  }
 },
 "nbformat": 4,
 "nbformat_minor": 5
}
