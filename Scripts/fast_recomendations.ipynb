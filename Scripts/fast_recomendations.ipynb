{
 "cells": [
  {
   "cell_type": "markdown",
   "id": "eae8db95",
   "metadata": {},
   "source": [
    "## The previous version of recomendations 'recomendations2_ahb' was highly inefficient. Here, I am attempting to speed up the computational time by replacing the iterrrows for loop method with a dictionaries for loop method.\n",
    "<br><br>\n",
    "### I am assuming using dictionaries will be faster becuase iterrows requires going through all rows and columns, if I convert it to a list of dictionaries it will just work through a list and access variables."
   ]
  },
  {
   "cell_type": "code",
   "execution_count": null,
   "id": "95bfe0a7",
   "metadata": {},
   "outputs": [],
   "source": [
    "import pandas as pd"
   ]
  },
  {
   "cell_type": "markdown",
   "id": "98105c18",
   "metadata": {},
   "source": [
    "#### just loading in some data frames here"
   ]
  },
  {
   "cell_type": "code",
   "execution_count": null,
   "id": "1c89fd25",
   "metadata": {},
   "outputs": [],
   "source": [
    "jan_df = pd.read_csv('data/Jan Sold With.csv')\n",
    "nov_df = pd.read_csv('data/Nov Sold With.csv')\n",
    "dec_df = pd.read_csv('data/Dec Sold With.csv')\n",
    "stores_df = pd.read_csv('data/stores.csv')\n",
    "store_sales_df = pd.read_csv('data/Store Sales.csv')\n",
    "products_df = pd.read_csv('data/products.csv')"
   ]
  },
  {
   "cell_type": "code",
   "execution_count": null,
   "id": "b3cd436e",
   "metadata": {},
   "outputs": [],
   "source": [
    "acces_df = pd.read_csv('data/access_df.csv')\n",
    "shoes_df = pd.read_csv('data/shoes_df.csv')\n",
    "shoes_district_level_df = pd.read_csv('data/shoes_district_level_df.csv')"
   ]
  },
  {
   "cell_type": "code",
   "execution_count": null,
   "id": "483855c1",
   "metadata": {
    "scrolled": true
   },
   "outputs": [],
   "source": [
    "master_sale_df = pd.read_csv('data/master_sale_df.csv')\n",
    "shoe_shoe_sale = pd.read_csv('data/shoe_shoe_sale.csv')\n",
    "shoe_acces_sale = pd.read_csv('data/shoe_acces_sale.csv')"
   ]
  },
  {
   "cell_type": "markdown",
   "id": "79a40cb7",
   "metadata": {},
   "source": [
    "### Below are the functions for finding shoe recomendations and accessory recomendations"
   ]
  },
  {
   "cell_type": "code",
   "execution_count": null,
   "id": "076445c8",
   "metadata": {},
   "outputs": [],
   "source": [
    "all_regions = shoe_shoe_sale.REGION.unique()\n",
    "all_districts = shoe_shoe_sale.DISTRICT.unique()\n",
    "all_states = shoe_shoe_sale.STORE_STATE_ALPHA.unique()\n",
    "all_stores = shoe_shoe_sale.STORE.unique()"
   ]
  },
  {
   "cell_type": "code",
   "execution_count": null,
   "id": "2c7bc6a1",
   "metadata": {},
   "outputs": [],
   "source": [
    "def shoe_recomendations2(stock_num, region = all_regions, district = all_districts,\n",
    "                         state = all_states, store = all_stores):\n",
    "    \n",
    "    shoe_shoe = shoe_shoe_sale[(shoe_shoe_sale['REGION'].isin(region)) &\n",
    "                                    (shoe_shoe_sale['DISTRICT'].isin(district)) &\n",
    "                                    (shoe_shoe_sale['STORE_STATE_ALPHA'].isin(state)) &\n",
    "                                    (shoe_shoe_sale['STORE'].isin(store))]\n",
    "    if len(store) == 1:\n",
    "        heirarchy ='store'\n",
    "    elif len(state) == 1:\n",
    "        heirarchy ='state'\n",
    "    elif len(district) == 1:\n",
    "        heirarchy ='district'\n",
    "    elif len(region) == 1:\n",
    "        heirarchy ='region'\n",
    "    else:\n",
    "        heirarchy = 'division'\n",
    "    \n",
    "    recomendation_df = pd.DataFrame(shoe_shoe[(shoe_shoe['PRIMARY_STOCKNO'] == stock_num)]\n",
    "                                    [['PRIMARY_STOCKNO','SECONDARY_STOCKNO']]).value_counts().reset_index()\n",
    "    \n",
    "    recomendation_df.columns = ['PRIMARY_STOCKNO', 'SECONDARY_STOCKNO', 'COUNT']\n",
    "    \n",
    "    recomendations = []\n",
    "    combo_purchase_count = []\n",
    "    \n",
    "    for index, row in recomendation_df.head(3).iterrows():\n",
    "        if row.SECONDARY_STOCKNO == stock_num:\n",
    "            recomendations.append(row.PRIMARY_STOCKNO)\n",
    "            combo_purchase_count.append(row.COUNT)\n",
    "        else:\n",
    "            recomendations.append(row.SECONDARY_STOCKNO)\n",
    "            combo_purchase_count.append(row.COUNT)\n",
    "    \n",
    "    return recomendations, combo_purchase_count, heirarchy"
   ]
  },
  {
   "cell_type": "markdown",
   "id": "7c4c35a9",
   "metadata": {},
   "source": [
    "## Below is the original iterrows for loop method"
   ]
  },
  {
   "cell_type": "code",
   "execution_count": null,
   "id": "685a25a9",
   "metadata": {},
   "outputs": [],
   "source": [
    "for index, row in list_df[0].iterrows():\n",
    "    \n",
    "    if index % 10 == 0:\n",
    "        print(index)\n",
    "        \n",
    "    if len(shoe_recomendations2(row.PRIMARY_STOCKNO, [row.REGION], [row.DISTRICT])[1]) == 3 and shoe_recomendations2(row.PRIMARY_STOCKNO,\n",
    "                                                                                                                       [row.REGION],\n",
    "                                                                                                                       [row.DISTRICT])[1][2] > 2:\n",
    "        shoes_district_level_df.loc[index, 'rec1'] = shoe_recomendations2(row.PRIMARY_STOCKNO,\n",
    "                                                            [row.REGION], [row.DISTRICT])[0][0]\n",
    "        shoes_district_level_df.loc[index, 'rec2'] = shoe_recomendations2(row.PRIMARY_STOCKNO,\n",
    "                                                            [row.REGION], [row.DISTRICT])[0][1]\n",
    "        shoes_district_level_df.loc[index, 'rec3'] = shoe_recomendations2(row.PRIMARY_STOCKNO,\n",
    "                                                            [row.REGION], [row.DISTRICT])[0][2]\n",
    "        shoes_district_level_df.loc[index, 'rec1_count'] = shoe_recomendations2(row.PRIMARY_STOCKNO,\n",
    "                                                            [row.REGION], [row.DISTRICT])[1][0]\n",
    "        shoes_district_level_df.loc[index, 'rec2_count'] = shoe_recomendations2(row.PRIMARY_STOCKNO,\n",
    "                                                            [row.REGION], [row.DISTRICT])[1][1]\n",
    "        shoes_district_level_df.loc[index, 'rec3_count'] = shoe_recomendations2(row.PRIMARY_STOCKNO,\n",
    "                                                            [row.REGION], [row.DISTRICT])[1][2]\n",
    "        shoes_district_level_df.loc[index, 'rec_level'] = shoe_recomendations2(row.PRIMARY_STOCKNO,\n",
    "                                                            [row.REGION], [row.DISTRICT])[2]\n",
    "        \n",
    "    elif len(shoe_recomendations2(row.PRIMARY_STOCKNO, [row.REGION])[1]) == 3 and shoe_recomendations2(row.PRIMARY_STOCKNO,\n",
    "                                                                                                       [row.REGION])[1][2] > 2:\n",
    "        shoes_district_level_df.loc[index, 'rec1'] = shoe_recomendations2(row.PRIMARY_STOCKNO, [row.REGION])[0][0]\n",
    "        shoes_district_level_df.loc[index, 'rec2'] = shoe_recomendations2(row.PRIMARY_STOCKNO, [row.REGION])[0][1]\n",
    "        shoes_district_level_df.loc[index, 'rec3'] = shoe_recomendations2(row.PRIMARY_STOCKNO, [row.REGION])[0][2]\n",
    "        shoes_district_level_df.loc[index, 'rec1_count'] = shoe_recomendations2(row.PRIMARY_STOCKNO, [row.REGION])[1][0]\n",
    "        shoes_district_level_df.loc[index, 'rec2_count'] = shoe_recomendations2(row.PRIMARY_STOCKNO, [row.REGION])[1][1]\n",
    "        shoes_district_level_df.loc[index, 'rec3_count'] = shoe_recomendations2(row.PRIMARY_STOCKNO, [row.REGION])[1][2]\n",
    "        shoes_district_level_df.loc[index, 'rec_level'] = shoe_recomendations2(row.PRIMARY_STOCKNO, [row.REGION])[2]\n",
    "        \n",
    "    elif len(shoe_recomendations2(row.PRIMARY_STOCKNO)[1]) == 3 and shoe_recomendations2(row.PRIMARY_STOCKNO)[1][2] > 2:\n",
    "        shoes_district_level_df.loc[index, 'rec1'] = shoe_recomendations2(row.PRIMARY_STOCKNO)[0][0]\n",
    "        shoes_district_level_df.loc[index, 'rec2'] = shoe_recomendations2(row.PRIMARY_STOCKNO)[0][1]\n",
    "        shoes_district_level_df.loc[index, 'rec3'] = shoe_recomendations2(row.PRIMARY_STOCKNO)[0][2]\n",
    "        shoes_district_level_df.loc[index, 'rec1_count'] = shoe_recomendations2(row.PRIMARY_STOCKNO)[1][0]\n",
    "        shoes_district_level_df.loc[index, 'rec2_count'] = shoe_recomendations2(row.PRIMARY_STOCKNO)[1][1]\n",
    "        shoes_district_level_df.loc[index, 'rec3_count'] = shoe_recomendations2(row.PRIMARY_STOCKNO)[1][2]\n",
    "        shoes_district_level_df.loc[index, 'rec_level'] = shoe_recomendations2(row.PRIMARY_STOCKNO)[2]\n",
    "        \n",
    "    elif len(shoe_recomendations2(row.PRIMARY_STOCKNO)[1]) == 2 and shoe_recomendations2(row.PRIMARY_STOCKNO)[1][1] > 2:\n",
    "        shoes_district_level_df.loc[index, 'rec1'] = shoe_recomendations2(row.PRIMARY_STOCKNO)[0][0]\n",
    "        shoes_district_level_df.loc[index, 'rec2'] = shoe_recomendations2(row.PRIMARY_STOCKNO)[0][1]\n",
    "        shoes_district_level_df.loc[index, 'rec3'] = -1\n",
    "        shoes_district_level_df.loc[index, 'rec1_count'] = shoe_recomendations2(row.PRIMARY_STOCKNO)[1][0]\n",
    "        shoes_district_level_df.loc[index, 'rec2_count'] = shoe_recomendations2(row.PRIMARY_STOCKNO)[1][1]\n",
    "        shoes_district_level_df.loc[index, 'rec3_count'] = -1\n",
    "        shoes_district_level_df.loc[index, 'rec_level'] = shoe_recomendations2(row.PRIMARY_STOCKNO)[2]\n",
    "        \n",
    "    elif len(shoe_recomendations2(row.PRIMARY_STOCKNO)[1]) == 1 and shoe_recomendations2(row.PRIMARY_STOCKNO)[1][0] > 2:\n",
    "        shoes_district_level_df.loc[index, 'rec1'] = shoe_recomendations2(row.PRIMARY_STOCKNO)[0][0]\n",
    "        shoes_district_level_df.loc[index, 'rec2'] = -1\n",
    "        shoes_district_level_df.loc[index, 'rec3'] = -1\n",
    "        shoes_district_level_df.loc[index, 'rec1_count'] = shoe_recomendations2(row.PRIMARY_STOCKNO)[1][0]\n",
    "        shoes_district_level_df.loc[index, 'rec2_count'] = -1\n",
    "        shoes_district_level_df.loc[index, 'rec3_count'] = -1\n",
    "        shoes_district_level_df.loc[index, 'rec_level'] = shoe_recomendations2(row.PRIMARY_STOCKNO)[2]\n",
    "        \n",
    "    else:\n",
    "        shoes_district_level_df.loc[index, 'rec1'] = -1\n",
    "        shoes_district_level_df.loc[index, 'rec2'] = -1\n",
    "        shoes_district_level_df.loc[index, 'rec3'] = -1\n",
    "        shoes_district_level_df.loc[index, 'rec1_count'] = -1\n",
    "        shoes_district_level_df.loc[index, 'rec2_count'] = -1\n",
    "        shoes_district_level_df.loc[index, 'rec3_count'] = -1\n",
    "        shoes_district_level_df.loc[index, 'rec_level'] = -1"
   ]
  },
  {
   "cell_type": "markdown",
   "id": "91a1c00a",
   "metadata": {},
   "source": [
    "## Below is using the dictionary for loop method."
   ]
  },
  {
   "cell_type": "code",
   "execution_count": null,
   "id": "ef6e4be4",
   "metadata": {},
   "outputs": [],
   "source": []
  },
  {
   "cell_type": "markdown",
   "id": "c72fc948",
   "metadata": {},
   "source": [
    "#### testing the idea"
   ]
  },
  {
   "cell_type": "code",
   "execution_count": null,
   "id": "172a17df",
   "metadata": {},
   "outputs": [],
   "source": [
    "shoes_dict = shoes_district_level_df.to_dict('records')\n",
    "shoes_dict[0]['PRIMARY_STOCKNO']"
   ]
  },
  {
   "cell_type": "code",
   "execution_count": null,
   "id": "06d87251",
   "metadata": {},
   "outputs": [],
   "source": [
    "len(shoes_dict)"
   ]
  },
  {
   "cell_type": "code",
   "execution_count": null,
   "id": "722637fd",
   "metadata": {},
   "outputs": [],
   "source": []
  },
  {
   "cell_type": "code",
   "execution_count": null,
   "id": "d7bfa7a9",
   "metadata": {
    "scrolled": true
   },
   "outputs": [],
   "source": [
    "shoes_district_level_dict = shoes_district_level_df.head(5).to_dict('shoes')\n",
    "rec1 = []\n",
    "rec2 = []\n",
    "rec3 = []\n",
    "\n",
    "for i in range(0,101):\n",
    "    \n",
    "    print(shoe_recomendations2(shoes_dict[i]['PRIMARY_STOCKNO'], [shoes_dict[i]['REGION']],\n",
    "                                [shoes_dict[i]['DISTRICT']]))\n",
    "        \n",
    "    if len(shoe_recomendations2(shoes_dict[i]['PRIMARY_STOCKNO'], [shoes_dict[i]['REGION']],\n",
    "                                [shoes_dict[i]['DISTRICT']])[1]) == 3 and shoe_recomendations2(shoes_dict[i]['PRIMARY_STOCKNO'],\n",
    "                                                                                              [shoes_dict[i]['REGION']],\n",
    "                                                                                              [shoes_dict[i]['DISTRICT']])[1][2] > 2:      \n",
    "        rec1[i].append((shoe_recomendations2(shoes_dict[i]['PRIMARY_STOCKNO'], [shoes_dict[i]['REGION']], [shoes_dict[i]['DISTRICT']])[0][0])) \n",
    "        rec2[i].append((shoe_recomendations2(shoes_dict[i]['PRIMARY_STOCKNO'], [shoes_dict[i]['REGION']], [shoes_dict[i]['DISTRICT']])[0][1]))\n",
    "        rec3[i].append((shoe_recomendations2(shoes_dict[i]['PRIMARY_STOCKNO'], [shoes_dict[i]['REGION']], [shoes_dict[i]['DISTRICT']])[0][2]))\n",
    "        "
   ]
  },
  {
   "cell_type": "markdown",
   "id": "ea655f96",
   "metadata": {},
   "source": [
    "#### actual dictionary method for loop (still in progress)"
   ]
  },
  {
   "cell_type": "code",
   "execution_count": null,
   "id": "14cae39f",
   "metadata": {},
   "outputs": [],
   "source": [
    "for i in range(0, len(shoes_dict)+1)::\n",
    "    \n",
    "    if index % 10 == 0:\n",
    "        print(index)\n",
    "        \n",
    "    if len(shoe_recomendations2(shoes_dict[i]['PRIMARY_STOCKNO'], [shoes_dict[i]['REGION']],\n",
    "                                [shoes_dict[i]['DISTRICT']])[1]) == 3 and shoe_recomendations2(shoes_dict[i]['PRIMARY_STOCKNO'],\n",
    "                                                                                              [shoes_dict[i]['REGION']],\n",
    "                                                                                              [shoes_dict[i]['DISTRICT']])[1][2] > 2:      \n",
    "        rec1[i].append((shoe_recomendations2(shoes_dict[i]['PRIMARY_STOCKNO'], [shoes_dict[i]['REGION']], [shoes_dict[i]['DISTRICT']])[0][0])) \n",
    "        rec2[i].append((shoe_recomendations2(shoes_dict[i]['PRIMARY_STOCKNO'], [shoes_dict[i]['REGION']], [shoes_dict[i]['DISTRICT']])[0][1]))\n",
    "        rec3[i].append((shoe_recomendations2(shoes_dict[i]['PRIMARY_STOCKNO'], [shoes_dict[i]['REGION']], [shoes_dict[i]['DISTRICT']])[0][2]))\n",
    "        \n",
    "        \n",
    "    elif len(shoe_recomendations2(row.PRIMARY_STOCKNO,\n",
    "                                  [row.REGION])[1]) == 3 and shoe_recomendations2(row.PRIMARY_STOCKNO,\n",
    "                                                                                                       [row.REGION])[1][2] > 2:\n",
    "        shoes_district_level_df.loc[index, 'rec1'] = shoe_recomendations2(row.PRIMARY_STOCKNO, [row.REGION])[0][0]\n",
    "        shoes_district_level_df.loc[index, 'rec2'] = shoe_recomendations2(row.PRIMARY_STOCKNO, [row.REGION])[0][1]\n",
    "        shoes_district_level_df.loc[index, 'rec3'] = shoe_recomendations2(row.PRIMARY_STOCKNO, [row.REGION])[0][2]\n",
    "        shoes_district_level_df.loc[index, 'rec1_count'] = shoe_recomendations2(row.PRIMARY_STOCKNO, [row.REGION])[1][0]\n",
    "        shoes_district_level_df.loc[index, 'rec2_count'] = shoe_recomendations2(row.PRIMARY_STOCKNO, [row.REGION])[1][1]\n",
    "        shoes_district_level_df.loc[index, 'rec3_count'] = shoe_recomendations2(row.PRIMARY_STOCKNO, [row.REGION])[1][2]\n",
    "        shoes_district_level_df.loc[index, 'rec_level'] = shoe_recomendations2(row.PRIMARY_STOCKNO, [row.REGION])[2]\n",
    "        \n",
    "    elif len(shoe_recomendations2(row.PRIMARY_STOCKNO)[1]) == 3 and shoe_recomendations2(row.PRIMARY_STOCKNO)[1][2] > 2:\n",
    "        shoes_district_level_df.loc[index, 'rec1'] = shoe_recomendations2(row.PRIMARY_STOCKNO)[0][0]\n",
    "        shoes_district_level_df.loc[index, 'rec2'] = shoe_recomendations2(row.PRIMARY_STOCKNO)[0][1]\n",
    "        shoes_district_level_df.loc[index, 'rec3'] = shoe_recomendations2(row.PRIMARY_STOCKNO)[0][2]\n",
    "        shoes_district_level_df.loc[index, 'rec1_count'] = shoe_recomendations2(row.PRIMARY_STOCKNO)[1][0]\n",
    "        shoes_district_level_df.loc[index, 'rec2_count'] = shoe_recomendations2(row.PRIMARY_STOCKNO)[1][1]\n",
    "        shoes_district_level_df.loc[index, 'rec3_count'] = shoe_recomendations2(row.PRIMARY_STOCKNO)[1][2]\n",
    "        shoes_district_level_df.loc[index, 'rec_level'] = shoe_recomendations2(row.PRIMARY_STOCKNO)[2]\n",
    "        \n",
    "    elif len(shoe_recomendations2(row.PRIMARY_STOCKNO)[1]) == 2 and shoe_recomendations2(row.PRIMARY_STOCKNO)[1][1] > 2:\n",
    "        shoes_district_level_df.loc[index, 'rec1'] = shoe_recomendations2(row.PRIMARY_STOCKNO)[0][0]\n",
    "        shoes_district_level_df.loc[index, 'rec2'] = shoe_recomendations2(row.PRIMARY_STOCKNO)[0][1]\n",
    "        shoes_district_level_df.loc[index, 'rec3'] = -1\n",
    "        shoes_district_level_df.loc[index, 'rec1_count'] = shoe_recomendations2(row.PRIMARY_STOCKNO)[1][0]\n",
    "        shoes_district_level_df.loc[index, 'rec2_count'] = shoe_recomendations2(row.PRIMARY_STOCKNO)[1][1]\n",
    "        shoes_district_level_df.loc[index, 'rec3_count'] = -1\n",
    "        shoes_district_level_df.loc[index, 'rec_level'] = shoe_recomendations2(row.PRIMARY_STOCKNO)[2]\n",
    "        \n",
    "    elif len(shoe_recomendations2(row.PRIMARY_STOCKNO)[1]) == 1 and shoe_recomendations2(row.PRIMARY_STOCKNO)[1][0] > 2:\n",
    "        shoes_district_level_df.loc[index, 'rec1'] = shoe_recomendations2(row.PRIMARY_STOCKNO)[0][0]\n",
    "        shoes_district_level_df.loc[index, 'rec2'] = -1\n",
    "        shoes_district_level_df.loc[index, 'rec3'] = -1\n",
    "        shoes_district_level_df.loc[index, 'rec1_count'] = shoe_recomendations2(row.PRIMARY_STOCKNO)[1][0]\n",
    "        shoes_district_level_df.loc[index, 'rec2_count'] = -1\n",
    "        shoes_district_level_df.loc[index, 'rec3_count'] = -1\n",
    "        shoes_district_level_df.loc[index, 'rec_level'] = shoe_recomendations2(row.PRIMARY_STOCKNO)[2]\n",
    "        \n",
    "    else:\n",
    "        shoes_district_level_df.loc[index, 'rec1'] = -1\n",
    "        shoes_district_level_df.loc[index, 'rec2'] = -1\n",
    "        shoes_district_level_df.loc[index, 'rec3'] = -1\n",
    "        shoes_district_level_df.loc[index, 'rec1_count'] = -1\n",
    "        shoes_district_level_df.loc[index, 'rec2_count'] = -1\n",
    "        shoes_district_level_df.loc[index, 'rec3_count'] = -1\n",
    "        shoes_district_level_df.loc[index, 'rec_level'] = -1"
   ]
  },
  {
   "cell_type": "code",
   "execution_count": null,
   "id": "649ad357",
   "metadata": {},
   "outputs": [],
   "source": []
  }
 ],
 "metadata": {
  "kernelspec": {
   "display_name": "Python 3 (ipykernel)",
   "language": "python",
   "name": "python3"
  },
  "language_info": {
   "codemirror_mode": {
    "name": "ipython",
    "version": 3
   },
   "file_extension": ".py",
   "mimetype": "text/x-python",
   "name": "python",
   "nbconvert_exporter": "python",
   "pygments_lexer": "ipython3",
   "version": "3.9.13"
  }
 },
 "nbformat": 4,
 "nbformat_minor": 5
}
