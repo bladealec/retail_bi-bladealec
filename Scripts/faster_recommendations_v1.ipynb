{
 "cells": [
  {
   "cell_type": "markdown",
   "id": "188fb431",
   "metadata": {},
   "source": [
    "## The previous version of recomendations 'recomendations2_ahb' was highly inefficient. Here I am attempting to speed up the computational time by replacing the iterrrows for loop method with a dictionaries for loop method.\n",
    "<br><br>\n",
    "### I am assuming using dictionaries will be faster becuase iterrows requires going through all rows and columns, if I convert it to a list of dictionaries it will just work through a list and access variables."
   ]
  },
  {
   "cell_type": "code",
   "execution_count": null,
   "id": "c8a55e4f",
   "metadata": {},
   "outputs": [],
   "source": [
    "import pandas as pd"
   ]
  },
  {
   "cell_type": "code",
   "execution_count": null,
   "id": "84f4efeb",
   "metadata": {},
   "outputs": [],
   "source": [
    "from IPython.display import display, HTML\n",
    "display(HTML(\"<style>.container { width:80% !important; }</style>\"))"
   ]
  },
  {
   "cell_type": "markdown",
   "id": "86bf5b51",
   "metadata": {},
   "source": [
    "#### just loading in some data frames here"
   ]
  },
  {
   "cell_type": "code",
   "execution_count": null,
   "id": "669c4c53",
   "metadata": {},
   "outputs": [],
   "source": [
    "jan_df = pd.read_csv('data/Jan Sold With.csv')\n",
    "nov_df = pd.read_csv('data/Nov Sold With.csv')\n",
    "dec_df = pd.read_csv('data/Dec Sold With.csv')\n",
    "stores_df = pd.read_csv('data/stores.csv')\n",
    "store_sales_df = pd.read_csv('data/Store Sales.csv')\n",
    "products_df = pd.read_csv('data/products.csv')"
   ]
  },
  {
   "cell_type": "code",
   "execution_count": null,
   "id": "b2afe384",
   "metadata": {},
   "outputs": [],
   "source": [
    "acces_df = pd.read_csv('data/access_df.csv')\n",
    "shoes_df = pd.read_csv('data/shoes_df.csv')\n",
    "shoes_district_level_df = pd.read_csv('data/shoes_district_level_df.csv')"
   ]
  },
  {
   "cell_type": "code",
   "execution_count": null,
   "id": "42df167c",
   "metadata": {
    "scrolled": true
   },
   "outputs": [],
   "source": [
    "master_sale_df = pd.read_csv('data/master_sale_df.csv')\n",
    "shoe_shoe_sale = pd.read_csv('data/shoe_shoe_sale.csv')\n",
    "shoe_acces_sale = pd.read_csv('data/shoe_acces_sale.csv')"
   ]
  },
  {
   "cell_type": "markdown",
   "id": "cbcc7fd6",
   "metadata": {},
   "source": [
    "### Below are the functions for finding shoe recomendations and accessory recomendations"
   ]
  },
  {
   "cell_type": "code",
   "execution_count": null,
   "id": "bef41586",
   "metadata": {},
   "outputs": [],
   "source": [
    "all_regions = shoe_shoe_sale.REGION.unique()\n",
    "all_districts = shoe_shoe_sale.DISTRICT.unique()\n",
    "all_states = shoe_shoe_sale.STORE_STATE_ALPHA.unique()\n",
    "all_stores = shoe_shoe_sale.STORE.unique()"
   ]
  },
  {
   "cell_type": "code",
   "execution_count": null,
   "id": "5a73a096",
   "metadata": {},
   "outputs": [],
   "source": [
    "def shoe_recomendations2(stock_num, region = all_regions, district = all_districts,\n",
    "                         state = all_states, store = all_stores):\n",
    "    \n",
    "    shoe_shoe = shoe_shoe_sale[(shoe_shoe_sale['REGION'].isin(region)) &\n",
    "                                    (shoe_shoe_sale['DISTRICT'].isin(district)) &\n",
    "                                    (shoe_shoe_sale['STORE_STATE_ALPHA'].isin(state)) &\n",
    "                                    (shoe_shoe_sale['STORE'].isin(store))]\n",
    "    if len(store) == 1:\n",
    "        heirarchy ='store'\n",
    "    elif len(state) == 1:\n",
    "        heirarchy ='state'\n",
    "    elif len(district) == 1:\n",
    "        heirarchy ='district'\n",
    "    elif len(region) == 1:\n",
    "        heirarchy ='region'\n",
    "    else:\n",
    "        heirarchy = 'division'\n",
    "    \n",
    "    recomendation_df = pd.DataFrame(shoe_shoe[(shoe_shoe['PRIMARY_STOCKNO'] == stock_num)]\n",
    "                                    [['PRIMARY_STOCKNO','SECONDARY_STOCKNO']]).value_counts().reset_index()\n",
    "    \n",
    "    recomendation_df.columns = ['PRIMARY_STOCKNO', 'SECONDARY_STOCKNO', 'COUNT']\n",
    "    \n",
    "    recomendations = []\n",
    "    combo_purchase_count = []\n",
    "    \n",
    "    for index, row in recomendation_df.head(3).iterrows():\n",
    "        if row.SECONDARY_STOCKNO == stock_num:\n",
    "            recomendations.append(row.PRIMARY_STOCKNO)\n",
    "            combo_purchase_count.append(row.COUNT)\n",
    "        else:\n",
    "            recomendations.append(row.SECONDARY_STOCKNO)\n",
    "            combo_purchase_count.append(row.COUNT)\n",
    "    \n",
    "    return recomendations, combo_purchase_count, heirarchy"
   ]
  },
  {
   "cell_type": "markdown",
   "id": "7d692651",
   "metadata": {},
   "source": [
    "## Below is the original iterrows for loop method"
   ]
  },
  {
   "cell_type": "code",
   "execution_count": null,
   "id": "5c6ded2b",
   "metadata": {},
   "outputs": [],
   "source": [
    "for index, row in list_df[0].iterrows():\n",
    "    \n",
    "    if index % 10 == 0:\n",
    "        print(index)\n",
    "        \n",
    "    if len(shoe_recomendations2(row.PRIMARY_STOCKNO, [row.REGION], [row.DISTRICT])[1]) == 3 and shoe_recomendations2(row.PRIMARY_STOCKNO,\n",
    "                                                                                                                       [row.REGION],\n",
    "                                                                                                                       [row.DISTRICT])[1][2] > 2:\n",
    "        shoes_district_level_df.loc[index, 'rec1'] = shoe_recomendations2(row.PRIMARY_STOCKNO,\n",
    "                                                            [row.REGION], [row.DISTRICT])[0][0]\n",
    "        shoes_district_level_df.loc[index, 'rec2'] = shoe_recomendations2(row.PRIMARY_STOCKNO,\n",
    "                                                            [row.REGION], [row.DISTRICT])[0][1]\n",
    "        shoes_district_level_df.loc[index, 'rec3'] = shoe_recomendations2(row.PRIMARY_STOCKNO,\n",
    "                                                            [row.REGION], [row.DISTRICT])[0][2]\n",
    "        shoes_district_level_df.loc[index, 'rec1_count'] = shoe_recomendations2(row.PRIMARY_STOCKNO,\n",
    "                                                            [row.REGION], [row.DISTRICT])[1][0]\n",
    "        shoes_district_level_df.loc[index, 'rec2_count'] = shoe_recomendations2(row.PRIMARY_STOCKNO,\n",
    "                                                            [row.REGION], [row.DISTRICT])[1][1]\n",
    "        shoes_district_level_df.loc[index, 'rec3_count'] = shoe_recomendations2(row.PRIMARY_STOCKNO,\n",
    "                                                            [row.REGION], [row.DISTRICT])[1][2]\n",
    "        shoes_district_level_df.loc[index, 'rec_level'] = shoe_recomendations2(row.PRIMARY_STOCKNO,\n",
    "                                                            [row.REGION], [row.DISTRICT])[2]\n",
    "        \n",
    "    elif len(shoe_recomendations2(row.PRIMARY_STOCKNO, [row.REGION])[1]) == 3 and shoe_recomendations2(row.PRIMARY_STOCKNO,\n",
    "                                                                                                       [row.REGION])[1][2] > 2:\n",
    "        shoes_district_level_df.loc[index, 'rec1'] = shoe_recomendations2(row.PRIMARY_STOCKNO, [row.REGION])[0][0]\n",
    "        shoes_district_level_df.loc[index, 'rec2'] = shoe_recomendations2(row.PRIMARY_STOCKNO, [row.REGION])[0][1]\n",
    "        shoes_district_level_df.loc[index, 'rec3'] = shoe_recomendations2(row.PRIMARY_STOCKNO, [row.REGION])[0][2]\n",
    "        shoes_district_level_df.loc[index, 'rec1_count'] = shoe_recomendations2(row.PRIMARY_STOCKNO, [row.REGION])[1][0]\n",
    "        shoes_district_level_df.loc[index, 'rec2_count'] = shoe_recomendations2(row.PRIMARY_STOCKNO, [row.REGION])[1][1]\n",
    "        shoes_district_level_df.loc[index, 'rec3_count'] = shoe_recomendations2(row.PRIMARY_STOCKNO, [row.REGION])[1][2]\n",
    "        shoes_district_level_df.loc[index, 'rec_level'] = shoe_recomendations2(row.PRIMARY_STOCKNO, [row.REGION])[2]\n",
    "        \n",
    "    elif len(shoe_recomendations2(row.PRIMARY_STOCKNO)[1]) == 3 and shoe_recomendations2(row.PRIMARY_STOCKNO)[1][2] > 2:\n",
    "        shoes_district_level_df.loc[index, 'rec1'] = shoe_recomendations2(row.PRIMARY_STOCKNO)[0][0]\n",
    "        shoes_district_level_df.loc[index, 'rec2'] = shoe_recomendations2(row.PRIMARY_STOCKNO)[0][1]\n",
    "        shoes_district_level_df.loc[index, 'rec3'] = shoe_recomendations2(row.PRIMARY_STOCKNO)[0][2]\n",
    "        shoes_district_level_df.loc[index, 'rec1_count'] = shoe_recomendations2(row.PRIMARY_STOCKNO)[1][0]\n",
    "        shoes_district_level_df.loc[index, 'rec2_count'] = shoe_recomendations2(row.PRIMARY_STOCKNO)[1][1]\n",
    "        shoes_district_level_df.loc[index, 'rec3_count'] = shoe_recomendations2(row.PRIMARY_STOCKNO)[1][2]\n",
    "        shoes_district_level_df.loc[index, 'rec_level'] = shoe_recomendations2(row.PRIMARY_STOCKNO)[2]\n",
    "        \n",
    "    elif len(shoe_recomendations2(row.PRIMARY_STOCKNO)[1]) == 2 and shoe_recomendations2(row.PRIMARY_STOCKNO)[1][1] > 2:\n",
    "        shoes_district_level_df.loc[index, 'rec1'] = shoe_recomendations2(row.PRIMARY_STOCKNO)[0][0]\n",
    "        shoes_district_level_df.loc[index, 'rec2'] = shoe_recomendations2(row.PRIMARY_STOCKNO)[0][1]\n",
    "        shoes_district_level_df.loc[index, 'rec3'] = -1\n",
    "        shoes_district_level_df.loc[index, 'rec1_count'] = shoe_recomendations2(row.PRIMARY_STOCKNO)[1][0]\n",
    "        shoes_district_level_df.loc[index, 'rec2_count'] = shoe_recomendations2(row.PRIMARY_STOCKNO)[1][1]\n",
    "        shoes_district_level_df.loc[index, 'rec3_count'] = -1\n",
    "        shoes_district_level_df.loc[index, 'rec_level'] = shoe_recomendations2(row.PRIMARY_STOCKNO)[2]\n",
    "        \n",
    "    elif len(shoe_recomendations2(row.PRIMARY_STOCKNO)[1]) == 1 and shoe_recomendations2(row.PRIMARY_STOCKNO)[1][0] > 2:\n",
    "        shoes_district_level_df.loc[index, 'rec1'] = shoe_recomendations2(row.PRIMARY_STOCKNO)[0][0]\n",
    "        shoes_district_level_df.loc[index, 'rec2'] = -1\n",
    "        shoes_district_level_df.loc[index, 'rec3'] = -1\n",
    "        shoes_district_level_df.loc[index, 'rec1_count'] = shoe_recomendations2(row.PRIMARY_STOCKNO)[1][0]\n",
    "        shoes_district_level_df.loc[index, 'rec2_count'] = -1\n",
    "        shoes_district_level_df.loc[index, 'rec3_count'] = -1\n",
    "        shoes_district_level_df.loc[index, 'rec_level'] = shoe_recomendations2(row.PRIMARY_STOCKNO)[2]\n",
    "        \n",
    "    else:\n",
    "        shoes_district_level_df.loc[index, 'rec1'] = -1\n",
    "        shoes_district_level_df.loc[index, 'rec2'] = -1\n",
    "        shoes_district_level_df.loc[index, 'rec3'] = -1\n",
    "        shoes_district_level_df.loc[index, 'rec1_count'] = -1\n",
    "        shoes_district_level_df.loc[index, 'rec2_count'] = -1\n",
    "        shoes_district_level_df.loc[index, 'rec3_count'] = -1\n",
    "        shoes_district_level_df.loc[index, 'rec_level'] = -1"
   ]
  },
  {
   "cell_type": "markdown",
   "id": "cac509e8",
   "metadata": {},
   "source": [
    "## Below is  the dictionary for loop method."
   ]
  },
  {
   "cell_type": "code",
   "execution_count": null,
   "id": "581b189c",
   "metadata": {},
   "outputs": [],
   "source": [
    "rec1 = []\n",
    "rec2 = []\n",
    "rec3 = []\n",
    "rec1_count = []\n",
    "rec2_count = []\n",
    "rec3_count = []\n",
    "rec_level = []"
   ]
  },
  {
   "cell_type": "code",
   "execution_count": null,
   "id": "4055e66f",
   "metadata": {},
   "outputs": [],
   "source": [
    "shoes_dict = shoes_district_level_df.head(11).to_dict('records')\n",
    "\n",
    "\n",
    "\n",
    "for i in range(0, len(shoes_dict)):\n",
    "    \n",
    "    if i % 10 == 0:\n",
    "        print(i)\n",
    "        print(shoe_recomendations2(shoes_dict[i]['PRIMARY_STOCKNO'], [shoes_dict[i]['REGION']],\n",
    "                                [shoes_dict[i]['DISTRICT']]))\n",
    "        print('----------------')\n",
    "        \n",
    "    if len(shoe_recomendations2(shoes_dict[i]['PRIMARY_STOCKNO'], [shoes_dict[i]['REGION']],\n",
    "                                [shoes_dict[i]['DISTRICT']])[1]) == 3 and shoe_recomendations2(shoes_dict[i]['PRIMARY_STOCKNO'], [shoes_dict[i]['REGION']],\n",
    "                                                                                              [shoes_dict[i]['DISTRICT']])[1][2] > 2:  \n",
    "        \n",
    "        rec1.append((shoe_recomendations2(shoes_dict[i]['PRIMARY_STOCKNO'], [shoes_dict[i]['REGION']], [shoes_dict[i]['DISTRICT']])[0][0])) \n",
    "        rec2.append((shoe_recomendations2(shoes_dict[i]['PRIMARY_STOCKNO'], [shoes_dict[i]['REGION']], [shoes_dict[i]['DISTRICT']])[0][1]))\n",
    "        rec3.append((shoe_recomendations2(shoes_dict[i]['PRIMARY_STOCKNO'], [shoes_dict[i]['REGION']], [shoes_dict[i]['DISTRICT']])[0][2]))\n",
    "        rec1_count.append((shoe_recomendations2(shoes_dict[i]['PRIMARY_STOCKNO'], [shoes_dict[i]['REGION']], [shoes_dict[i]['DISTRICT']])[1][0]))\n",
    "        rec2_count.append((shoe_recomendations2(shoes_dict[i]['PRIMARY_STOCKNO'], [shoes_dict[i]['REGION']], [shoes_dict[i]['DISTRICT']])[1][1]))\n",
    "        rec3_count.append((shoe_recomendations2(shoes_dict[i]['PRIMARY_STOCKNO'], [shoes_dict[i]['REGION']], [shoes_dict[i]['DISTRICT']])[1][2]))\n",
    "        rec_level.append((shoe_recomendations2(shoes_dict[i]['PRIMARY_STOCKNO'], [shoes_dict[i]['REGION']], [shoes_dict[i]['DISTRICT']])[2]))\n",
    "        \n",
    "        \n",
    "    elif len(shoe_recomendations2(shoes_dict[i]['PRIMARY_STOCKNO'], [shoes_dict[i]['REGION']])[1]) == 3 and shoe_recomendations2(shoes_dict[i]['PRIMARY_STOCKNO'],\n",
    "                                                                                                                                 [shoes_dict[i]['REGION']])[1][2] > 2:\n",
    "        \n",
    "        rec1.append((shoe_recomendations2(shoes_dict[i]['PRIMARY_STOCKNO'], [shoes_dict[i]['REGION']])[0][0])) \n",
    "        rec2.append((shoe_recomendations2(shoes_dict[i]['PRIMARY_STOCKNO'], [shoes_dict[i]['REGION']])[0][1]))\n",
    "        rec3.append((shoe_recomendations2(shoes_dict[i]['PRIMARY_STOCKNO'], [shoes_dict[i]['REGION']])[0][2]))\n",
    "        rec1_count.append((shoe_recomendations2(shoes_dict[i]['PRIMARY_STOCKNO'], [shoes_dict[i]['REGION']])[1][0]))\n",
    "        rec2_count.append((shoe_recomendations2(shoes_dict[i]['PRIMARY_STOCKNO'], [shoes_dict[i]['REGION']])[1][1]))\n",
    "        rec3_count.append((shoe_recomendations2(shoes_dict[i]['PRIMARY_STOCKNO'], [shoes_dict[i]['REGION']])[1][2]))\n",
    "        rec_level.append((shoe_recomendations2(shoes_dict[i]['PRIMARY_STOCKNO'], [shoes_dict[i]['REGION']])[2]))\n",
    "        \n",
    "        \n",
    "    elif len(shoe_recomendations2(shoes_dict[i]['PRIMARY_STOCKNO'])[1]) == 3 and shoe_recomendations2(shoes_dict[i]['PRIMARY_STOCKNO'])[1][2] > 2:\n",
    "        \n",
    "        rec1.append((shoe_recomendations2(shoes_dict[i]['PRIMARY_STOCKNO'])[0][0])) \n",
    "        rec2.append((shoe_recomendations2(shoes_dict[i]['PRIMARY_STOCKNO'])[0][1]))\n",
    "        rec3.append((shoe_recomendations2(shoes_dict[i]['PRIMARY_STOCKNO'])[0][2]))\n",
    "        rec1_count.append((shoe_recomendations2(shoes_dict[i]['PRIMARY_STOCKNO'])[1][0]))\n",
    "        rec2_count.append((shoe_recomendations2(shoes_dict[i]['PRIMARY_STOCKNO'])[1][1]))\n",
    "        rec3_count.append((shoe_recomendations2(shoes_dict[i]['PRIMARY_STOCKNO'])[1][2]))\n",
    "        rec_level.append((shoe_recomendations2(shoes_dict[i]['PRIMARY_STOCKNO'])[2]))\n",
    "        \n",
    "        \n",
    "    elif len(shoe_recomendations2(shoes_dict[i]['PRIMARY_STOCKNO'])[1]) == 2 and shoe_recomendations2(shoes_dict[i]['PRIMARY_STOCKNO'])[1][1] > 2:\n",
    "        rec1.append((shoe_recomendations2(shoes_dict[i]['PRIMARY_STOCKNO'])[0][0])) \n",
    "        rec2.append((shoe_recomendations2(shoes_dict[i]['PRIMARY_STOCKNO'])[0][1]))\n",
    "        rec3.append(-1)\n",
    "        rec1_count.append((shoe_recomendations2(shoes_dict[i]['PRIMARY_STOCKNO'])[1][0]))\n",
    "        rec2_count.append((shoe_recomendations2(shoes_dict[i]['PRIMARY_STOCKNO'])[1][1]))\n",
    "        rec3_count.append(-1)\n",
    "        rec_level.append((shoe_recomendations2(shoes_dict[i]['PRIMARY_STOCKNO'])[2]))\n",
    "        \n",
    "    elif len(shoe_recomendations2(shoes_dict[i]['PRIMARY_STOCKNO'])[1]) == 1 and shoe_recomendations2(shoes_dict[i]['PRIMARY_STOCKNO'])[1][0] > 2:\n",
    "        rec1.append((shoe_recomendations2(shoes_dict[i]['PRIMARY_STOCKNO'])[0][0]))\n",
    "        rec2.append(-1)\n",
    "        rec3.append(-1)\n",
    "        rec1_count.append((shoe_recomendations2(shoes_dict[i]['PRIMARY_STOCKNO'])[1][0]))\n",
    "        rec2_count.append(-1)\n",
    "        rec3_count.append(-1)\n",
    "        rec_level.append((shoe_recomendations2(shoes_dict[i]['PRIMARY_STOCKNO'])[2]))\n",
    "        \n",
    "    else:\n",
    "        rec1.append(-1)\n",
    "        rec2.append(-1)\n",
    "        rec3.append(-1)\n",
    "        rec1_count.append(-1)\n",
    "        rec2_count.append(-1)\n",
    "        rec3_count.append(-1)\n",
    "        rec_level.append(-1)"
   ]
  },
  {
   "cell_type": "markdown",
   "id": "39a7fdad",
   "metadata": {},
   "source": [
    "# The new dictionary method completes 11 entries 9 seconds faster than the itterrows method. This method also reduces the itterations from 1.76 million to 94,947. This means that the new dictionary method will take 74 hours (estimated) or 3 days to complete. The origional method required 81 days.\n",
    "<br><br>\n",
    "## Overall, I have shrunk the computational time by 96%. However, I would like to reduce the 3 day run time into a 3 hour run time next."
   ]
  },
  {
   "cell_type": "code",
   "execution_count": null,
   "id": "cff27930",
   "metadata": {},
   "outputs": [],
   "source": [
    "shoes_dict = shoes_district_level_df.to_dict('records')\n",
    "len(shoes_dict)"
   ]
  },
  {
   "cell_type": "code",
   "execution_count": null,
   "id": "60525c9a",
   "metadata": {},
   "outputs": [],
   "source": []
  }
 ],
 "metadata": {
  "kernelspec": {
   "display_name": "Python 3 (ipykernel)",
   "language": "python",
   "name": "python3"
  },
  "language_info": {
   "codemirror_mode": {
    "name": "ipython",
    "version": 3
   },
   "file_extension": ".py",
   "mimetype": "text/x-python",
   "name": "python",
   "nbconvert_exporter": "python",
   "pygments_lexer": "ipython3",
   "version": "3.9.13"
  }
 },
 "nbformat": 4,
 "nbformat_minor": 5
}
